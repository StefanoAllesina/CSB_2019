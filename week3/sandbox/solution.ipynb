{
 "cells": [
  {
   "cell_type": "code",
   "execution_count": 1,
   "metadata": {},
   "outputs": [],
   "source": [
    "# taken from https://en.wikibooks.org/wiki/Algorithm_Implementation/Strings/Levenshtein_distance#Python\n",
    "\n",
    "# Christopher P. Matthews\n",
    "# christophermatthews1985@gmail.com\n",
    "# Sacramento, CA, USA\n",
    "\n",
    "def levenshtein(s, t):\n",
    "        ''' From Wikipedia article; Iterative with two matrix rows. '''\n",
    "        if s == t: return 0\n",
    "        elif len(s) == 0: return len(t)\n",
    "        elif len(t) == 0: return len(s)\n",
    "        v0 = [None] * (len(t) + 1)\n",
    "        v1 = [None] * (len(t) + 1)\n",
    "        for i in range(len(v0)):\n",
    "            v0[i] = i\n",
    "        for i in range(len(s)):\n",
    "            v1[0] = i + 1\n",
    "            for j in range(len(t)):\n",
    "                cost = 0 if s[i] == t[j] else 1\n",
    "                v1[j + 1] = min(v1[j] + 1, v0[j + 1] + 1, v0[j] + cost)\n",
    "            for j in range(len(v0)):\n",
    "                v0[j] = v1[j]\n",
    "                \n",
    "        return v1[len(t)]"
   ]
  },
  {
   "cell_type": "code",
   "execution_count": 2,
   "metadata": {},
   "outputs": [],
   "source": [
    "import urllib.request\n",
    "# original url\n",
    "url = 'https://raw.githubusercontent.com/dwyl/english-words/master/words_alpha.txt'\n",
    "with urllib.request.urlopen(url) as f:\n",
    "    words = f.readlines()\n",
    "words = [word.decode('UTF8').strip() for word in words]\n",
    "lengths = [len(word) for word in words]"
   ]
  },
  {
   "cell_type": "code",
   "execution_count": 14,
   "metadata": {},
   "outputs": [],
   "source": [
    "def find_funny(target):\n",
    "    print('*******************************************')\n",
    "    print(target)\n",
    "    print('*******************************************')\n",
    "    splittarget = target.lower().split()\n",
    "    for i, w in enumerate(splittarget):\n",
    "        if len(w) > 3:\n",
    "            maxl = len(w) + 1\n",
    "            minl = len(w) - 1\n",
    "            for j, w2 in enumerate(words):\n",
    "                if lengths[j] <= maxl and lengths[j] >= minl:\n",
    "                    if levenshtein(w, w2) == 1:\n",
    "                        # print the new string\n",
    "                        pun = splittarget.copy()\n",
    "                        pun[i] = w2\n",
    "                        print(\" \".join(pun))"
   ]
  },
  {
   "cell_type": "code",
   "execution_count": 15,
   "metadata": {},
   "outputs": [
    {
     "name": "stdout",
     "output_type": "stream",
     "text": [
      "*******************************************\n",
      "creative writing\n",
      "*******************************************\n",
      "creatine writing\n",
      "creative waiting\n",
      "creative whiting\n",
      "creative witing\n",
      "creative writhing\n",
      "creative writings\n"
     ]
    }
   ],
   "source": [
    "find_funny('creative writing')"
   ]
  },
  {
   "cell_type": "code",
   "execution_count": 16,
   "metadata": {},
   "outputs": [
    {
     "name": "stdout",
     "output_type": "stream",
     "text": [
      "*******************************************\n",
      "International Relations\n",
      "*******************************************\n",
      "internationale relations\n",
      "internationals relations\n",
      "international delations\n",
      "international elations\n",
      "international gelations\n",
      "international relation\n",
      "international relatione\n"
     ]
    }
   ],
   "source": [
    "find_funny('International Relations')"
   ]
  },
  {
   "cell_type": "code",
   "execution_count": 17,
   "metadata": {},
   "outputs": [
    {
     "name": "stdout",
     "output_type": "stream",
     "text": [
      "*******************************************\n",
      "Public Policy and Service\n",
      "*******************************************\n",
      "pubic policy and service\n",
      "publica policy and service\n",
      "publice policy and service\n",
      "publici policy and service\n",
      "publics policy and service\n",
      "public police and service\n",
      "public polity and service\n",
      "public policy and serviced\n",
      "public policy and servicer\n",
      "public policy and services\n",
      "public policy and servile\n",
      "public policy and servite\n"
     ]
    }
   ],
   "source": [
    "find_funny('Public Policy and Service')"
   ]
  },
  {
   "cell_type": "code",
   "execution_count": 18,
   "metadata": {},
   "outputs": [
    {
     "name": "stdout",
     "output_type": "stream",
     "text": [
      "*******************************************\n",
      "visual arts\n",
      "*******************************************\n",
      "vidual arts\n",
      "vishal arts\n",
      "vistal arts\n",
      "visuals arts\n",
      "visual acts\n",
      "visual airts\n",
      "visual aits\n",
      "visual alts\n",
      "visual ants\n",
      "visual apts\n",
      "visual arbs\n",
      "visual arcs\n",
      "visual ares\n",
      "visual arks\n",
      "visual arms\n",
      "visual ars\n",
      "visual art\n",
      "visual arte\n",
      "visual arty\n",
      "visual artsy\n",
      "visual artus\n",
      "visual carts\n",
      "visual crts\n",
      "visual darts\n",
      "visual farts\n",
      "visual harts\n",
      "visual karts\n",
      "visual marts\n",
      "visual orts\n",
      "visual parts\n",
      "visual tarts\n",
      "visual warts\n"
     ]
    }
   ],
   "source": [
    "find_funny('visual arts')"
   ]
  },
  {
   "cell_type": "code",
   "execution_count": 19,
   "metadata": {},
   "outputs": [
    {
     "name": "stdout",
     "output_type": "stream",
     "text": [
      "*******************************************\n",
      "urban teaching\n",
      "*******************************************\n",
      "durban teaching\n",
      "rurban teaching\n",
      "turban teaching\n",
      "uran teaching\n",
      "urbana teaching\n",
      "urbane teaching\n",
      "urbian teaching\n",
      "urian teaching\n",
      "urman teaching\n",
      "urban beaching\n",
      "urban leaching\n",
      "urban meaching\n",
      "urban peaching\n",
      "urban reaching\n",
      "urban teachings\n"
     ]
    }
   ],
   "source": [
    "find_funny('urban teaching')"
   ]
  },
  {
   "cell_type": "code",
   "execution_count": 20,
   "metadata": {},
   "outputs": [
    {
     "name": "stdout",
     "output_type": "stream",
     "text": [
      "*******************************************\n",
      "law letters and society\n",
      "*******************************************\n",
      "law betters and society\n",
      "law fetters and society\n",
      "law getters and society\n",
      "law letter and society\n",
      "law lettern and society\n",
      "law litters and society\n",
      "law netters and society\n",
      "law petters and society\n",
      "law setters and society\n",
      "law tetters and society\n",
      "law wetters and society\n",
      "law letters and societe\n"
     ]
    }
   ],
   "source": [
    "find_funny('law letters and society')"
   ]
  },
  {
   "cell_type": "code",
   "execution_count": 21,
   "metadata": {},
   "outputs": [
    {
     "name": "stdout",
     "output_type": "stream",
     "text": [
      "*******************************************\n",
      "ecology and evolution\n",
      "*******************************************\n",
      "acology and evolution\n",
      "enology and evolution\n",
      "oecology and evolution\n",
      "ecology and devolution\n",
      "ecology and evolutions\n",
      "ecology and exolution\n",
      "ecology and revolution\n",
      "ecology and volution\n"
     ]
    }
   ],
   "source": [
    "find_funny('ecology and evolution')"
   ]
  },
  {
   "cell_type": "code",
   "execution_count": 25,
   "metadata": {},
   "outputs": [
    {
     "name": "stdout",
     "output_type": "stream",
     "text": [
      "*******************************************\n",
      "cancer biology\n",
      "*******************************************\n",
      "cancel biology\n",
      "cancers biology\n",
      "caner biology\n",
      "canker biology\n",
      "canner biology\n",
      "canter biology\n",
      "carcer biology\n",
      "chancer biology\n",
      "dancer biology\n",
      "lancer biology\n",
      "rancer biology\n",
      "cancer abiology\n"
     ]
    }
   ],
   "source": [
    "find_funny('cancer biology')"
   ]
  },
  {
   "cell_type": "code",
   "execution_count": null,
   "metadata": {},
   "outputs": [],
   "source": []
  }
 ],
 "metadata": {
  "kernelspec": {
   "display_name": "Python 3",
   "language": "python",
   "name": "python3"
  },
  "language_info": {
   "codemirror_mode": {
    "name": "ipython",
    "version": 3
   },
   "file_extension": ".py",
   "mimetype": "text/x-python",
   "name": "python",
   "nbconvert_exporter": "python",
   "pygments_lexer": "ipython3",
   "version": "3.6.4"
  }
 },
 "nbformat": 4,
 "nbformat_minor": 2
}
